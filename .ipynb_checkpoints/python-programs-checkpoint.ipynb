{
 "cells": [
  {
   "cell_type": "code",
   "execution_count": 13,
   "id": "c5f79cb5",
   "metadata": {},
   "outputs": [],
   "source": [
    "#1.Ways to sort list of dictionaries by values in Python – Using lambda function\n",
    "#l1 is list of dictranties\n",
    "l1=[{'name':'harish','age':200,'city':'hyderabad'},{'name':'king','age':45,'city':'goa'},{'name':'queen','age':50,'city':'delhi'}]"
   ]
  },
  {
   "cell_type": "code",
   "execution_count": 14,
   "id": "4df072cf",
   "metadata": {},
   "outputs": [
    {
     "data": {
      "text/plain": [
       "[{'name': 'harish', 'age': 200, 'city': 'hyderabad'},\n",
       " {'name': 'king', 'age': 45, 'city': 'goa'},\n",
       " {'name': 'queen', 'age': 50, 'city': 'delhi'}]"
      ]
     },
     "execution_count": 14,
     "metadata": {},
     "output_type": "execute_result"
    }
   ],
   "source": [
    "l1"
   ]
  },
  {
   "cell_type": "code",
   "execution_count": 17,
   "id": "77e0f070",
   "metadata": {},
   "outputs": [
    {
     "name": "stdout",
     "output_type": "stream",
     "text": [
      "[{'name': 'king', 'age': 45, 'city': 'goa'}, {'name': 'queen', 'age': 50, 'city': 'delhi'}, {'name': 'harish', 'age': 200, 'city': 'hyderabad'}]\n"
     ]
    }
   ],
   "source": [
    "print(sorted(l1,key=lambda l1:l1['age']))"
   ]
  },
  {
   "cell_type": "code",
   "execution_count": 19,
   "id": "24116969",
   "metadata": {},
   "outputs": [],
   "source": [
    "#2.Matrix manipulation in Python\n",
    "import numpy as np"
   ]
  },
  {
   "cell_type": "code",
   "execution_count": null,
   "id": "9ffeaaf1",
   "metadata": {},
   "outputs": [],
   "source": [
    "#3.Ways to sort list of dictionaries by values in Python – Using itemgetter"
   ]
  },
  {
   "cell_type": "raw",
   "id": "578316c4",
   "metadata": {},
   "source": [
    "# 4.make_heap() in C++ STL\n",
    "5.lexicographical_compare() in C++\n",
    "6.lexicographical_compare in C++\n",
    "7.std::includes() in C++ STL\n",
    "8.merge() in C++ STL"
   ]
  },
  {
   "cell_type": "code",
   "execution_count": 21,
   "id": "b91a2aff",
   "metadata": {},
   "outputs": [
    {
     "name": "stdout",
     "output_type": "stream",
     "text": [
      "8\n"
     ]
    }
   ],
   "source": [
    "#9.pow()\n",
    "print(pow(2,3))"
   ]
  },
  {
   "cell_type": "code",
   "execution_count": 24,
   "id": "0dfe2b1a",
   "metadata": {},
   "outputs": [
    {
     "name": "stdout",
     "output_type": "stream",
     "text": [
      "120\n"
     ]
    }
   ],
   "source": [
    "#10.factoril\n",
    "\n",
    "import math\n",
    "print(math.factorial(5))"
   ]
  },
  {
   "cell_type": "code",
   "execution_count": 25,
   "id": "1bcf6dfe",
   "metadata": {},
   "outputs": [],
   "source": [
    "#11.gcd\n"
   ]
  },
  {
   "cell_type": "code",
   "execution_count": 26,
   "id": "3342e5d4",
   "metadata": {},
   "outputs": [],
   "source": [
    "#12.log"
   ]
  },
  {
   "cell_type": "code",
   "execution_count": 27,
   "id": "370d5759",
   "metadata": {},
   "outputs": [
    {
     "data": {
      "text/plain": [
       "30"
      ]
     },
     "execution_count": 27,
     "metadata": {},
     "output_type": "execute_result"
    }
   ],
   "source": [
    "#13.max() and min() in Python\n",
    "l1=[10,20,30]\n",
    "min(l1)\n",
    "max(l1)"
   ]
  },
  {
   "cell_type": "code",
   "execution_count": 36,
   "id": "d18bdc80",
   "metadata": {},
   "outputs": [
    {
     "name": "stdout",
     "output_type": "stream",
     "text": [
      "hsirah\n"
     ]
    }
   ],
   "source": [
    "#14.Reverse string in Python (5 different ways)\n",
    "\n",
    "s1=\"harish\"\n",
    "print(s1[::-1])\n"
   ]
  },
  {
   "cell_type": "code",
   "execution_count": 37,
   "id": "4245e97e",
   "metadata": {},
   "outputs": [
    {
     "name": "stdout",
     "output_type": "stream",
     "text": [
      "0b1010\n"
     ]
    }
   ],
   "source": [
    "#15.bin() in Python\n",
    "x=10\n",
    "print(bin(x))"
   ]
  },
  {
   "cell_type": "code",
   "execution_count": 38,
   "id": "fd3383be",
   "metadata": {},
   "outputs": [],
   "source": [
    "#16.Tau - A Mathematical Constant"
   ]
  },
  {
   "cell_type": "code",
   "execution_count": 39,
   "id": "0c19cb5f",
   "metadata": {},
   "outputs": [],
   "source": [
    "#17.randrange() in Python"
   ]
  },
  {
   "cell_type": "code",
   "execution_count": 47,
   "id": "b9be334f",
   "metadata": {},
   "outputs": [
    {
     "name": "stdout",
     "output_type": "stream",
     "text": [
      "104\n",
      "98\n",
      "b\n"
     ]
    }
   ],
   "source": [
    "#18.Ways to increment a character in Python\n",
    "\n",
    "s1=\"harish\"\n",
    "print(ord(s1[0]))\n",
    "print(ord(s1[1])+1)\n",
    "print(chr(ord(s1[1])+1))"
   ]
  },
  {
   "cell_type": "code",
   "execution_count": 62,
   "id": "b7abf6e3",
   "metadata": {},
   "outputs": [
    {
     "name": "stdout",
     "output_type": "stream",
     "text": [
      "<zip object at 0x000002261CE12840>\n",
      "(10, 40)\n",
      "(20, 50)\n",
      "(30, 60)\n",
      "set()\n"
     ]
    }
   ],
   "source": [
    "#22.zip() in Python\n",
    "l1=[10,20,30]\n",
    "l2=[40,50,60]\n",
    "z1=zip(l1,l2)\n",
    "print(z1)\n",
    "print(next(z1))\n",
    "print(next(z1))\n",
    "print(next(z1))\n",
    "print(set(z1))"
   ]
  },
  {
   "cell_type": "code",
   "execution_count": 64,
   "id": "2a53458e",
   "metadata": {},
   "outputs": [
    {
     "name": "stdout",
     "output_type": "stream",
     "text": [
      "{(20, 50), (30, 60), (10, 40)}\n"
     ]
    }
   ],
   "source": [
    "l1=[10,20,30]\n",
    "l2=[40,50,60]\n",
    "z1=zip(l1,l2)\n",
    "print(set(z1))"
   ]
  },
  {
   "cell_type": "code",
   "execution_count": 75,
   "id": "ebbddb3a",
   "metadata": {},
   "outputs": [
    {
     "name": "stdout",
     "output_type": "stream",
     "text": [
      "x1 10\n",
      "y1 20\n",
      "z1 30\n"
     ]
    }
   ],
   "source": [
    "names=['x1','y1','z1']\n",
    "age=[10,20,30]\n",
    "z1=zip(names,age)\n",
    "for i,(n,a) in enumerate(z1):\n",
    "    print(n,a)\n",
    "    "
   ]
  },
  {
   "cell_type": "code",
   "execution_count": 80,
   "id": "86ced672",
   "metadata": {},
   "outputs": [],
   "source": [
    "l1=list(z1)"
   ]
  },
  {
   "cell_type": "code",
   "execution_count": 106,
   "id": "d6a3f4b7",
   "metadata": {},
   "outputs": [],
   "source": [
    "names=['abc','cde','fgh']\n",
    "age=[10,20,30]\n",
    "rollno=[100,200,300]\n",
    "z1=zip(names,age,rollno)\n",
    "l1=list(z1)\n",
    "n,a,r = zip(*l1)"
   ]
  },
  {
   "cell_type": "code",
   "execution_count": 107,
   "id": "2b032147",
   "metadata": {},
   "outputs": [
    {
     "data": {
      "text/plain": [
       "('abc', 'cde', 'fgh')"
      ]
     },
     "execution_count": 107,
     "metadata": {},
     "output_type": "execute_result"
    }
   ],
   "source": [
    "n"
   ]
  },
  {
   "cell_type": "code",
   "execution_count": 108,
   "id": "0241cabf",
   "metadata": {},
   "outputs": [
    {
     "data": {
      "text/plain": [
       "(10, 20, 30)"
      ]
     },
     "execution_count": 108,
     "metadata": {},
     "output_type": "execute_result"
    }
   ],
   "source": [
    "a"
   ]
  },
  {
   "cell_type": "code",
   "execution_count": 109,
   "id": "d1af9237",
   "metadata": {},
   "outputs": [
    {
     "data": {
      "text/plain": [
       "(100, 200, 300)"
      ]
     },
     "execution_count": 109,
     "metadata": {},
     "output_type": "execute_result"
    }
   ],
   "source": [
    "r"
   ]
  },
  {
   "cell_type": "code",
   "execution_count": null,
   "id": "96654797",
   "metadata": {},
   "outputs": [],
   "source": []
  },
  {
   "cell_type": "code",
   "execution_count": null,
   "id": "39fc7d31",
   "metadata": {},
   "outputs": [],
   "source": []
  },
  {
   "cell_type": "code",
   "execution_count": 7,
   "id": "cfef7940",
   "metadata": {},
   "outputs": [
    {
     "name": "stdout",
     "output_type": "stream",
     "text": [
      "[10, 20, 30, 40, 50, 60]\n"
     ]
    }
   ],
   "source": [
    "#60.Ways to concatenate two lists in Python\n",
    "l1=[10,20,30]\n",
    "l2=[40,50,60]\n",
    "print(l1+l2)\n"
   ]
  },
  {
   "cell_type": "code",
   "execution_count": 8,
   "id": "972a13ca",
   "metadata": {},
   "outputs": [],
   "source": [
    "for i in l2:\n",
    "    l1.append(i)"
   ]
  },
  {
   "cell_type": "code",
   "execution_count": 9,
   "id": "f4b9fbb0",
   "metadata": {},
   "outputs": [
    {
     "data": {
      "text/plain": [
       "[10, 20, 30, 40, 50, 60]"
      ]
     },
     "execution_count": 9,
     "metadata": {},
     "output_type": "execute_result"
    }
   ],
   "source": [
    "l1"
   ]
  },
  {
   "cell_type": "code",
   "execution_count": 14,
   "id": "02a811a4",
   "metadata": {},
   "outputs": [],
   "source": [
    "l1=[10,20,30]\n",
    "l2=[40,50,60]\n",
    "y=[l1.append(x) for x in l2]"
   ]
  },
  {
   "cell_type": "code",
   "execution_count": 16,
   "id": "08be9ea2",
   "metadata": {},
   "outputs": [
    {
     "data": {
      "text/plain": [
       "[None, None, None]"
      ]
     },
     "execution_count": 16,
     "metadata": {},
     "output_type": "execute_result"
    }
   ],
   "source": [
    "y"
   ]
  },
  {
   "cell_type": "code",
   "execution_count": 23,
   "id": "d8a1a2e3",
   "metadata": {},
   "outputs": [],
   "source": [
    "# Python3 code to demonstrate list \n",
    "# concatenation using list comprehension  \n",
    "# Initializing lists \n",
    "test_list1 = [1, 4, 5, 6, 5] \n",
    "test_list2 = [3, 5, 7, 2, 5] \n",
    "# using list comprehension to concat \n",
    "res_list = [y for x in [test_list1, test_list2] for y in x] \n"
   ]
  },
  {
   "cell_type": "code",
   "execution_count": 24,
   "id": "76e3dea6",
   "metadata": {},
   "outputs": [
    {
     "data": {
      "text/plain": [
       "[[None, None, None], [None, None, None]]"
      ]
     },
     "execution_count": 24,
     "metadata": {},
     "output_type": "execute_result"
    }
   ],
   "source": [
    "res_list"
   ]
  },
  {
   "cell_type": "code",
   "execution_count": 25,
   "id": "a2038f4f",
   "metadata": {},
   "outputs": [],
   "source": [
    "import itertools\n",
    "x=list(itertools.chain(test_list1, test_list2))"
   ]
  },
  {
   "cell_type": "code",
   "execution_count": 26,
   "id": "c85395a4",
   "metadata": {},
   "outputs": [
    {
     "data": {
      "text/plain": [
       "[1, 4, 5, 6, 5, 3, 5, 7, 2, 5]"
      ]
     },
     "execution_count": 26,
     "metadata": {},
     "output_type": "execute_result"
    }
   ],
   "source": [
    "x"
   ]
  },
  {
   "cell_type": "code",
   "execution_count": 27,
   "id": "79864e4e",
   "metadata": {},
   "outputs": [],
   "source": [
    "x=[*test_list1,*test_list2]"
   ]
  },
  {
   "cell_type": "code",
   "execution_count": 28,
   "id": "06c33b96",
   "metadata": {},
   "outputs": [
    {
     "data": {
      "text/plain": [
       "[1, 4, 5, 6, 5, 3, 5, 7, 2, 5]"
      ]
     },
     "execution_count": 28,
     "metadata": {},
     "output_type": "execute_result"
    }
   ],
   "source": [
    "x"
   ]
  },
  {
   "cell_type": "code",
   "execution_count": 31,
   "id": "c5de6f45",
   "metadata": {},
   "outputs": [],
   "source": [
    "#61.python frequency of each charector in string\n",
    "\n",
    "s='harish'\n",
    "d={}\n",
    "for i in s:\n",
    "    if i in d:\n",
    "        d[i]+=1\n",
    "    else:\n",
    "        d[i]=1"
   ]
  },
  {
   "cell_type": "code",
   "execution_count": 32,
   "id": "a2049691",
   "metadata": {},
   "outputs": [
    {
     "data": {
      "text/plain": [
       "{'h': 2, 'a': 1, 'r': 1, 'i': 1, 's': 1}"
      ]
     },
     "execution_count": 32,
     "metadata": {},
     "output_type": "execute_result"
    }
   ],
   "source": [
    "d"
   ]
  },
  {
   "cell_type": "code",
   "execution_count": 33,
   "id": "aa22a33e",
   "metadata": {},
   "outputs": [],
   "source": [
    "from collections import Counter\n",
    "x=Counter(s)"
   ]
  },
  {
   "cell_type": "code",
   "execution_count": 34,
   "id": "e9b9f329",
   "metadata": {},
   "outputs": [
    {
     "data": {
      "text/plain": [
       "Counter({'h': 2, 'a': 1, 'r': 1, 'i': 1, 's': 1})"
      ]
     },
     "execution_count": 34,
     "metadata": {},
     "output_type": "execute_result"
    }
   ],
   "source": [
    "x"
   ]
  },
  {
   "cell_type": "code",
   "execution_count": 44,
   "id": "24620ee1",
   "metadata": {},
   "outputs": [],
   "source": [
    "s='harishshankam'\n",
    "es = {i : s.count(i) for i in set(s)} "
   ]
  },
  {
   "cell_type": "code",
   "execution_count": 46,
   "id": "4e0343eb",
   "metadata": {},
   "outputs": [
    {
     "data": {
      "text/plain": [
       "{'s': 2, 'r': 1, 'k': 1, 'h': 3, 'n': 1, 'a': 3, 'i': 1, 'm': 1}"
      ]
     },
     "execution_count": 46,
     "metadata": {},
     "output_type": "execute_result"
    }
   ],
   "source": [
    "es"
   ]
  },
  {
   "cell_type": "code",
   "execution_count": 47,
   "id": "de1fed86",
   "metadata": {},
   "outputs": [
    {
     "data": {
      "text/plain": [
       "{'a', 'h', 'i', 'k', 'm', 'n', 'r', 's'}"
      ]
     },
     "execution_count": 47,
     "metadata": {},
     "output_type": "execute_result"
    }
   ],
   "source": [
    "set(s)"
   ]
  },
  {
   "cell_type": "code",
   "execution_count": 53,
   "id": "7990d8d7",
   "metadata": {},
   "outputs": [],
   "source": [
    "s='harishshankam'\n",
    "ch='r'\n",
    "count=0\n",
    "for i in s:\n",
    "    if i==ch:\n",
    "        count=count+1"
   ]
  },
  {
   "cell_type": "code",
   "execution_count": 54,
   "id": "0b1e2d3e",
   "metadata": {},
   "outputs": [
    {
     "data": {
      "text/plain": [
       "1"
      ]
     },
     "execution_count": 54,
     "metadata": {},
     "output_type": "execute_result"
    }
   ],
   "source": [
    "count"
   ]
  },
  {
   "cell_type": "code",
   "execution_count": 56,
   "id": "6d439545",
   "metadata": {},
   "outputs": [
    {
     "data": {
      "text/plain": [
       "3"
      ]
     },
     "execution_count": 56,
     "metadata": {},
     "output_type": "execute_result"
    }
   ],
   "source": [
    "s.count('a')"
   ]
  },
  {
   "cell_type": "code",
   "execution_count": 57,
   "id": "696ae3da",
   "metadata": {},
   "outputs": [],
   "source": [
    "from collections import Counter"
   ]
  },
  {
   "cell_type": "code",
   "execution_count": 58,
   "id": "7a2fcd02",
   "metadata": {},
   "outputs": [],
   "source": [
    "d=Counter(s)"
   ]
  },
  {
   "cell_type": "code",
   "execution_count": 59,
   "id": "188293ef",
   "metadata": {},
   "outputs": [
    {
     "data": {
      "text/plain": [
       "Counter({'h': 3, 'a': 3, 'r': 1, 'i': 1, 's': 2, 'n': 1, 'k': 1, 'm': 1})"
      ]
     },
     "execution_count": 59,
     "metadata": {},
     "output_type": "execute_result"
    }
   ],
   "source": [
    "d"
   ]
  },
  {
   "cell_type": "code",
   "execution_count": 60,
   "id": "dd4c5ad4",
   "metadata": {},
   "outputs": [
    {
     "data": {
      "text/plain": [
       "3"
      ]
     },
     "execution_count": 60,
     "metadata": {},
     "output_type": "execute_result"
    }
   ],
   "source": [
    "d['h']"
   ]
  },
  {
   "cell_type": "code",
   "execution_count": 65,
   "id": "a2cd59e8",
   "metadata": {},
   "outputs": [
    {
     "name": "stdout",
     "output_type": "stream",
     "text": [
      "identical\n"
     ]
    }
   ],
   "source": [
    "#63.list identical or not\n",
    "l1=[1,2,3,4,5]\n",
    "l2=[1,2,3,4,5]\n",
    "if l1==l2:\n",
    "    print(\"identical\")\n",
    "else:\n",
    "    print(\"not\")"
   ]
  },
  {
   "cell_type": "code",
   "execution_count": 66,
   "id": "1f773b65",
   "metadata": {},
   "outputs": [
    {
     "name": "stdout",
     "output_type": "stream",
     "text": [
      "equal\n"
     ]
    }
   ],
   "source": [
    "from collections import Counter\n",
    "c1=Counter(l1)\n",
    "c2=Counter(l2)\n",
    "if c1==c2:\n",
    "    print(\"equal\")\n",
    "else:\n",
    "    print(\"not equal\")"
   ]
  },
  {
   "cell_type": "code",
   "execution_count": null,
   "id": "af578f91",
   "metadata": {},
   "outputs": [],
   "source": []
  }
 ],
 "metadata": {
  "kernelspec": {
   "display_name": "Python 3 (ipykernel)",
   "language": "python",
   "name": "python3"
  },
  "language_info": {
   "codemirror_mode": {
    "name": "ipython",
    "version": 3
   },
   "file_extension": ".py",
   "mimetype": "text/x-python",
   "name": "python",
   "nbconvert_exporter": "python",
   "pygments_lexer": "ipython3",
   "version": "3.8.11"
  }
 },
 "nbformat": 4,
 "nbformat_minor": 5
}

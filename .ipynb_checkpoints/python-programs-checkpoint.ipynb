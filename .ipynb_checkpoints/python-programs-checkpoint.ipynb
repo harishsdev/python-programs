{
 "cells": [
  {
   "cell_type": "code",
   "execution_count": 13,
   "id": "06ddc787",
   "metadata": {},
   "outputs": [],
   "source": [
    "#1.Ways to sort list of dictionaries by values in Python – Using lambda function\n",
    "#l1 is list of dictranties\n",
    "l1=[{'name':'harish','age':200,'city':'hyderabad'},{'name':'king','age':45,'city':'goa'},{'name':'queen','age':50,'city':'delhi'}]"
   ]
  },
  {
   "cell_type": "code",
   "execution_count": 14,
   "id": "d5cb8e5c",
   "metadata": {},
   "outputs": [
    {
     "data": {
      "text/plain": [
       "[{'name': 'harish', 'age': 200, 'city': 'hyderabad'},\n",
       " {'name': 'king', 'age': 45, 'city': 'goa'},\n",
       " {'name': 'queen', 'age': 50, 'city': 'delhi'}]"
      ]
     },
     "execution_count": 14,
     "metadata": {},
     "output_type": "execute_result"
    }
   ],
   "source": [
    "l1"
   ]
  },
  {
   "cell_type": "code",
   "execution_count": 17,
   "id": "a47152f0",
   "metadata": {},
   "outputs": [
    {
     "name": "stdout",
     "output_type": "stream",
     "text": [
      "[{'name': 'king', 'age': 45, 'city': 'goa'}, {'name': 'queen', 'age': 50, 'city': 'delhi'}, {'name': 'harish', 'age': 200, 'city': 'hyderabad'}]\n"
     ]
    }
   ],
   "source": [
    "print(sorted(l1,key=lambda l1:l1['age']))"
   ]
  },
  {
   "cell_type": "code",
   "execution_count": 19,
   "id": "a9816c10",
   "metadata": {},
   "outputs": [],
   "source": [
    "#2.Matrix manipulation in Python\n",
    "import numpy as np"
   ]
  },
  {
   "cell_type": "code",
   "execution_count": null,
   "id": "ecc5cb6b",
   "metadata": {},
   "outputs": [],
   "source": [
    "#3.Ways to sort list of dictionaries by values in Python – Using itemgetter"
   ]
  },
  {
   "cell_type": "raw",
   "id": "525548a0",
   "metadata": {},
   "source": [
    "# 4.make_heap() in C++ STL\n",
    "5.lexicographical_compare() in C++\n",
    "6.lexicographical_compare in C++\n",
    "7.std::includes() in C++ STL\n",
    "8.merge() in C++ STL"
   ]
  },
  {
   "cell_type": "code",
   "execution_count": 21,
   "id": "870a5792",
   "metadata": {},
   "outputs": [
    {
     "name": "stdout",
     "output_type": "stream",
     "text": [
      "8\n"
     ]
    }
   ],
   "source": [
    "#9.pow()\n",
    "print(pow(2,3))"
   ]
  },
  {
   "cell_type": "code",
   "execution_count": 24,
   "id": "71301383",
   "metadata": {},
   "outputs": [
    {
     "name": "stdout",
     "output_type": "stream",
     "text": [
      "120\n"
     ]
    }
   ],
   "source": [
    "#10.factoril\n",
    "\n",
    "import math\n",
    "print(math.factorial(5))"
   ]
  },
  {
   "cell_type": "code",
   "execution_count": 25,
   "id": "907bcbb2",
   "metadata": {},
   "outputs": [],
   "source": [
    "#11.gcd\n"
   ]
  },
  {
   "cell_type": "code",
   "execution_count": 26,
   "id": "af024d72",
   "metadata": {},
   "outputs": [],
   "source": [
    "#12.log"
   ]
  },
  {
   "cell_type": "code",
   "execution_count": 27,
   "id": "2e9c555e",
   "metadata": {},
   "outputs": [
    {
     "data": {
      "text/plain": [
       "30"
      ]
     },
     "execution_count": 27,
     "metadata": {},
     "output_type": "execute_result"
    }
   ],
   "source": [
    "#13.max() and min() in Python\n",
    "l1=[10,20,30]\n",
    "min(l1)\n",
    "max(l1)"
   ]
  },
  {
   "cell_type": "code",
   "execution_count": 36,
   "id": "59a2ffbd",
   "metadata": {},
   "outputs": [
    {
     "name": "stdout",
     "output_type": "stream",
     "text": [
      "hsirah\n"
     ]
    }
   ],
   "source": [
    "#14.Reverse string in Python (5 different ways)\n",
    "\n",
    "s1=\"harish\"\n",
    "print(s1[::-1])\n"
   ]
  },
  {
   "cell_type": "code",
   "execution_count": 37,
   "id": "2c9b4911",
   "metadata": {},
   "outputs": [
    {
     "name": "stdout",
     "output_type": "stream",
     "text": [
      "0b1010\n"
     ]
    }
   ],
   "source": [
    "#15.bin() in Python\n",
    "x=10\n",
    "print(bin(x))"
   ]
  },
  {
   "cell_type": "code",
   "execution_count": 38,
   "id": "54534b97",
   "metadata": {},
   "outputs": [],
   "source": [
    "#16.Tau - A Mathematical Constant"
   ]
  },
  {
   "cell_type": "code",
   "execution_count": 39,
   "id": "76b3470b",
   "metadata": {},
   "outputs": [],
   "source": [
    "#17.randrange() in Python"
   ]
  },
  {
   "cell_type": "code",
   "execution_count": 47,
   "id": "2b6c55f5",
   "metadata": {},
   "outputs": [
    {
     "name": "stdout",
     "output_type": "stream",
     "text": [
      "104\n",
      "98\n",
      "b\n"
     ]
    }
   ],
   "source": [
    "#18.Ways to increment a character in Python\n",
    "\n",
    "s1=\"harish\"\n",
    "print(ord(s1[0]))\n",
    "print(ord(s1[1])+1)\n",
    "print(chr(ord(s1[1])+1))"
   ]
  },
  {
   "cell_type": "code",
   "execution_count": 62,
   "id": "1306620d",
   "metadata": {},
   "outputs": [
    {
     "name": "stdout",
     "output_type": "stream",
     "text": [
      "<zip object at 0x000002261CE12840>\n",
      "(10, 40)\n",
      "(20, 50)\n",
      "(30, 60)\n",
      "set()\n"
     ]
    }
   ],
   "source": [
    "#22.zip() in Python\n",
    "l1=[10,20,30]\n",
    "l2=[40,50,60]\n",
    "z1=zip(l1,l2)\n",
    "print(z1)\n",
    "print(next(z1))\n",
    "print(next(z1))\n",
    "print(next(z1))\n",
    "print(set(z1))"
   ]
  },
  {
   "cell_type": "code",
   "execution_count": 64,
   "id": "9029f372",
   "metadata": {},
   "outputs": [
    {
     "name": "stdout",
     "output_type": "stream",
     "text": [
      "{(20, 50), (30, 60), (10, 40)}\n"
     ]
    }
   ],
   "source": [
    "l1=[10,20,30]\n",
    "l2=[40,50,60]\n",
    "z1=zip(l1,l2)\n",
    "print(set(z1))"
   ]
  },
  {
   "cell_type": "code",
   "execution_count": 75,
   "id": "6e4f4f7b",
   "metadata": {},
   "outputs": [
    {
     "name": "stdout",
     "output_type": "stream",
     "text": [
      "x1 10\n",
      "y1 20\n",
      "z1 30\n"
     ]
    }
   ],
   "source": [
    "names=['x1','y1','z1']\n",
    "age=[10,20,30]\n",
    "z1=zip(names,age)\n",
    "for i,(n,a) in enumerate(z1):\n",
    "    print(n,a)\n",
    "    "
   ]
  },
  {
   "cell_type": "code",
   "execution_count": 80,
   "id": "c8384b9a",
   "metadata": {},
   "outputs": [],
   "source": [
    "l1=list(z1)"
   ]
  },
  {
   "cell_type": "code",
   "execution_count": 106,
   "id": "efb19b3a",
   "metadata": {},
   "outputs": [],
   "source": [
    "names=['abc','cde','fgh']\n",
    "age=[10,20,30]\n",
    "rollno=[100,200,300]\n",
    "z1=zip(names,age,rollno)\n",
    "l1=list(z1)\n",
    "n,a,r = zip(*l1)"
   ]
  },
  {
   "cell_type": "code",
   "execution_count": 107,
   "id": "9ec3174d",
   "metadata": {},
   "outputs": [
    {
     "data": {
      "text/plain": [
       "('abc', 'cde', 'fgh')"
      ]
     },
     "execution_count": 107,
     "metadata": {},
     "output_type": "execute_result"
    }
   ],
   "source": [
    "n"
   ]
  },
  {
   "cell_type": "code",
   "execution_count": 108,
   "id": "96a7aa2d",
   "metadata": {},
   "outputs": [
    {
     "data": {
      "text/plain": [
       "(10, 20, 30)"
      ]
     },
     "execution_count": 108,
     "metadata": {},
     "output_type": "execute_result"
    }
   ],
   "source": [
    "a"
   ]
  },
  {
   "cell_type": "code",
   "execution_count": 109,
   "id": "11ea1c03",
   "metadata": {},
   "outputs": [
    {
     "data": {
      "text/plain": [
       "(100, 200, 300)"
      ]
     },
     "execution_count": 109,
     "metadata": {},
     "output_type": "execute_result"
    }
   ],
   "source": [
    "r"
   ]
  },
  {
   "cell_type": "code",
   "execution_count": null,
   "id": "08ec8407",
   "metadata": {},
   "outputs": [],
   "source": []
  },
  {
   "cell_type": "code",
   "execution_count": null,
   "id": "79f4681f",
   "metadata": {},
   "outputs": [],
   "source": []
  },
  {
   "cell_type": "code",
   "execution_count": null,
   "id": "bc3ad2b8",
   "metadata": {},
   "outputs": [],
   "source": []
  }
 ],
 "metadata": {
  "kernelspec": {
   "display_name": "Python 3 (ipykernel)",
   "language": "python",
   "name": "python3"
  },
  "language_info": {
   "codemirror_mode": {
    "name": "ipython",
    "version": 3
   },
   "file_extension": ".py",
   "mimetype": "text/x-python",
   "name": "python",
   "nbconvert_exporter": "python",
   "pygments_lexer": "ipython3",
   "version": "3.8.11"
  }
 },
 "nbformat": 4,
 "nbformat_minor": 5
}

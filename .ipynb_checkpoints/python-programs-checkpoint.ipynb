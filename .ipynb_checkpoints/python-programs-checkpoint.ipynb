{
 "cells": [
  {
   "cell_type": "code",
   "execution_count": 13,
   "id": "93639c6f",
   "metadata": {},
   "outputs": [],
   "source": [
    "#1.Ways to sort list of dictionaries by values in Python – Using lambda function\n",
    "#l1 is list of dictranties\n",
    "l1=[{'name':'harish','age':200,'city':'hyderabad'},{'name':'king','age':45,'city':'goa'},{'name':'queen','age':50,'city':'delhi'}]"
   ]
  },
  {
   "cell_type": "code",
   "execution_count": 14,
   "id": "1d61ed67",
   "metadata": {},
   "outputs": [
    {
     "data": {
      "text/plain": [
       "[{'name': 'harish', 'age': 200, 'city': 'hyderabad'},\n",
       " {'name': 'king', 'age': 45, 'city': 'goa'},\n",
       " {'name': 'queen', 'age': 50, 'city': 'delhi'}]"
      ]
     },
     "execution_count": 14,
     "metadata": {},
     "output_type": "execute_result"
    }
   ],
   "source": [
    "l1"
   ]
  },
  {
   "cell_type": "code",
   "execution_count": 17,
   "id": "bf59a85b",
   "metadata": {},
   "outputs": [
    {
     "name": "stdout",
     "output_type": "stream",
     "text": [
      "[{'name': 'king', 'age': 45, 'city': 'goa'}, {'name': 'queen', 'age': 50, 'city': 'delhi'}, {'name': 'harish', 'age': 200, 'city': 'hyderabad'}]\n"
     ]
    }
   ],
   "source": [
    "print(sorted(l1,key=lambda l1:l1['age']))"
   ]
  },
  {
   "cell_type": "code",
   "execution_count": 19,
   "id": "d4765ac8",
   "metadata": {},
   "outputs": [],
   "source": [
    "#2.Matrix manipulation in Python\n",
    "import numpy as np"
   ]
  },
  {
   "cell_type": "code",
   "execution_count": null,
   "id": "6000f3c4",
   "metadata": {},
   "outputs": [],
   "source": [
    "#3.Ways to sort list of dictionaries by values in Python – Using itemgetter"
   ]
  }
 ],
 "metadata": {
  "kernelspec": {
   "display_name": "Python 3 (ipykernel)",
   "language": "python",
   "name": "python3"
  },
  "language_info": {
   "codemirror_mode": {
    "name": "ipython",
    "version": 3
   },
   "file_extension": ".py",
   "mimetype": "text/x-python",
   "name": "python",
   "nbconvert_exporter": "python",
   "pygments_lexer": "ipython3",
   "version": "3.8.11"
  }
 },
 "nbformat": 4,
 "nbformat_minor": 5
}

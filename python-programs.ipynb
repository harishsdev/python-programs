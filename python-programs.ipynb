{
 "cells": [
  {
   "cell_type": "code",
   "execution_count": 13,
   "id": "7f972a50",
   "metadata": {},
   "outputs": [],
   "source": [
    "#1.Ways to sort list of dictionaries by values in Python – Using lambda function\n",
    "#l1 is list of dictranties\n",
    "l1=[{'name':'harish','age':200,'city':'hyderabad'},{'name':'king','age':45,'city':'goa'},{'name':'queen','age':50,'city':'delhi'}]"
   ]
  },
  {
   "cell_type": "code",
   "execution_count": 14,
   "id": "d0ef7ae2",
   "metadata": {},
   "outputs": [
    {
     "data": {
      "text/plain": [
       "[{'name': 'harish', 'age': 200, 'city': 'hyderabad'},\n",
       " {'name': 'king', 'age': 45, 'city': 'goa'},\n",
       " {'name': 'queen', 'age': 50, 'city': 'delhi'}]"
      ]
     },
     "execution_count": 14,
     "metadata": {},
     "output_type": "execute_result"
    }
   ],
   "source": [
    "l1"
   ]
  },
  {
   "cell_type": "code",
   "execution_count": 17,
   "id": "fe67fb25",
   "metadata": {},
   "outputs": [
    {
     "name": "stdout",
     "output_type": "stream",
     "text": [
      "[{'name': 'king', 'age': 45, 'city': 'goa'}, {'name': 'queen', 'age': 50, 'city': 'delhi'}, {'name': 'harish', 'age': 200, 'city': 'hyderabad'}]\n"
     ]
    }
   ],
   "source": [
    "print(sorted(l1,key=lambda l1:l1['age']))"
   ]
  },
  {
   "cell_type": "code",
   "execution_count": 19,
   "id": "ca283877",
   "metadata": {},
   "outputs": [],
   "source": [
    "#2.Matrix manipulation in Python\n",
    "import numpy as np"
   ]
  },
  {
   "cell_type": "code",
   "execution_count": null,
   "id": "e7e572b0",
   "metadata": {},
   "outputs": [],
   "source": [
    "#3.Ways to sort list of dictionaries by values in Python – Using itemgetter"
   ]
  },
  {
   "cell_type": "raw",
   "id": "1ff1894d",
   "metadata": {},
   "source": [
    "# 4.make_heap() in C++ STL\n",
    "5.lexicographical_compare() in C++\n",
    "6.lexicographical_compare in C++\n",
    "7.std::includes() in C++ STL\n",
    "8.merge() in C++ STL"
   ]
  },
  {
   "cell_type": "code",
   "execution_count": 21,
   "id": "6278e2c8",
   "metadata": {},
   "outputs": [
    {
     "name": "stdout",
     "output_type": "stream",
     "text": [
      "8\n"
     ]
    }
   ],
   "source": [
    "#9.pow()\n",
    "print(pow(2,3))"
   ]
  },
  {
   "cell_type": "code",
   "execution_count": 24,
   "id": "9ef3593f",
   "metadata": {},
   "outputs": [
    {
     "name": "stdout",
     "output_type": "stream",
     "text": [
      "120\n"
     ]
    }
   ],
   "source": [
    "#10.factoril\n",
    "\n",
    "import math\n",
    "print(math.factorial(5))"
   ]
  },
  {
   "cell_type": "code",
   "execution_count": 25,
   "id": "c3c1a064",
   "metadata": {},
   "outputs": [],
   "source": [
    "#11.gcd\n"
   ]
  },
  {
   "cell_type": "code",
   "execution_count": 26,
   "id": "88ebcac8",
   "metadata": {},
   "outputs": [],
   "source": [
    "#12.log"
   ]
  },
  {
   "cell_type": "code",
   "execution_count": 27,
   "id": "a11ab934",
   "metadata": {},
   "outputs": [
    {
     "data": {
      "text/plain": [
       "30"
      ]
     },
     "execution_count": 27,
     "metadata": {},
     "output_type": "execute_result"
    }
   ],
   "source": [
    "#13.max() and min() in Python\n",
    "l1=[10,20,30]\n",
    "min(l1)\n",
    "max(l1)"
   ]
  },
  {
   "cell_type": "code",
   "execution_count": 36,
   "id": "6d4311e9",
   "metadata": {},
   "outputs": [
    {
     "name": "stdout",
     "output_type": "stream",
     "text": [
      "hsirah\n"
     ]
    }
   ],
   "source": [
    "#14.Reverse string in Python (5 different ways)\n",
    "\n",
    "s1=\"harish\"\n",
    "print(s1[::-1])\n"
   ]
  },
  {
   "cell_type": "code",
   "execution_count": 37,
   "id": "dc7a2e7a",
   "metadata": {},
   "outputs": [
    {
     "name": "stdout",
     "output_type": "stream",
     "text": [
      "0b1010\n"
     ]
    }
   ],
   "source": [
    "#15.bin() in Python\n",
    "x=10\n",
    "print(bin(x))"
   ]
  },
  {
   "cell_type": "code",
   "execution_count": 38,
   "id": "de7fa5c9",
   "metadata": {},
   "outputs": [],
   "source": [
    "#16.Tau - A Mathematical Constant"
   ]
  },
  {
   "cell_type": "code",
   "execution_count": null,
   "id": "22270289",
   "metadata": {},
   "outputs": [],
   "source": [
    "#17.randrange() in Python"
   ]
  }
 ],
 "metadata": {
  "kernelspec": {
   "display_name": "Python 3 (ipykernel)",
   "language": "python",
   "name": "python3"
  },
  "language_info": {
   "codemirror_mode": {
    "name": "ipython",
    "version": 3
   },
   "file_extension": ".py",
   "mimetype": "text/x-python",
   "name": "python",
   "nbconvert_exporter": "python",
   "pygments_lexer": "ipython3",
   "version": "3.8.11"
  }
 },
 "nbformat": 4,
 "nbformat_minor": 5
}

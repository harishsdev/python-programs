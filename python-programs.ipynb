{
 "cells": [
  {
   "cell_type": "code",
   "execution_count": 13,
   "id": "6da7cde3",
   "metadata": {},
   "outputs": [],
   "source": [
    "#1.Ways to sort list of dictionaries by values in Python – Using lambda function\n",
    "#l1 is list of dictranties\n",
    "l1=[{'name':'harish','age':200,'city':'hyderabad'},{'name':'king','age':45,'city':'goa'},{'name':'queen','age':50,'city':'delhi'}]"
   ]
  },
  {
   "cell_type": "code",
   "execution_count": 14,
   "id": "5e215bb8",
   "metadata": {},
   "outputs": [
    {
     "data": {
      "text/plain": [
       "[{'name': 'harish', 'age': 200, 'city': 'hyderabad'},\n",
       " {'name': 'king', 'age': 45, 'city': 'goa'},\n",
       " {'name': 'queen', 'age': 50, 'city': 'delhi'}]"
      ]
     },
     "execution_count": 14,
     "metadata": {},
     "output_type": "execute_result"
    }
   ],
   "source": [
    "l1"
   ]
  },
  {
   "cell_type": "code",
   "execution_count": 17,
   "id": "45568345",
   "metadata": {},
   "outputs": [
    {
     "name": "stdout",
     "output_type": "stream",
     "text": [
      "[{'name': 'king', 'age': 45, 'city': 'goa'}, {'name': 'queen', 'age': 50, 'city': 'delhi'}, {'name': 'harish', 'age': 200, 'city': 'hyderabad'}]\n"
     ]
    }
   ],
   "source": [
    "print(sorted(l1,key=lambda l1:l1['age']))"
   ]
  },
  {
   "cell_type": "code",
   "execution_count": null,
   "id": "afd24f7d",
   "metadata": {},
   "outputs": [],
   "source": []
  },
  {
   "cell_type": "code",
   "execution_count": null,
   "id": "29ea1bb9",
   "metadata": {},
   "outputs": [],
   "source": []
  }
 ],
 "metadata": {
  "kernelspec": {
   "display_name": "Python 3 (ipykernel)",
   "language": "python",
   "name": "python3"
  },
  "language_info": {
   "codemirror_mode": {
    "name": "ipython",
    "version": 3
   },
   "file_extension": ".py",
   "mimetype": "text/x-python",
   "name": "python",
   "nbconvert_exporter": "python",
   "pygments_lexer": "ipython3",
   "version": "3.8.11"
  }
 },
 "nbformat": 4,
 "nbformat_minor": 5
}
